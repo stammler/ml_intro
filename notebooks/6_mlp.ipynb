{
 "cells": [
  {
   "cell_type": "markdown",
   "id": "d428ccbb-bb33-4f4a-9543-f4f754fb2f6c",
   "metadata": {},
   "source": [
    "[![Binder](https://mybinder.org/badge_logo.svg)](https://mybinder.org/v2/gh/stammler/ml_intro/HEAD?labpath=notebooks%2F6_mlp.ipynb)"
   ]
  },
  {
   "cell_type": "markdown",
   "id": "c7fd481f-c8fe-4d4c-8e03-0eb94fae1178",
   "metadata": {},
   "source": [
    "# Multilayer Perceptron"
   ]
  },
  {
   "cell_type": "markdown",
   "id": "30679914-3cbf-4c36-ad59-66d5c87430fd",
   "metadata": {},
   "source": [
    "In this notebook we are going to solve the digit classification with a neural network."
   ]
  },
  {
   "cell_type": "markdown",
   "id": "1e5b77ac-f83d-45f2-a6c3-4ca72db2c177",
   "metadata": {},
   "source": [
    "At first we are loading the MNIST data set from `sklearn` and split it into a training and a testing data set."
   ]
  },
  {
   "cell_type": "code",
   "execution_count": 1,
   "id": "268beb90-008d-49c3-a1c2-eead304c2469",
   "metadata": {},
   "outputs": [],
   "source": [
    "from torchvision.datasets import MNIST"
   ]
  },
  {
   "cell_type": "code",
   "execution_count": 2,
   "id": "23dab527-84d7-4d9c-a9d1-46e19c4e4273",
   "metadata": {},
   "outputs": [],
   "source": [
    "data = MNIST(\"data\", download=True)\n",
    "X = data.data.reshape(-1, data.data.shape[-2]*data.data.shape[-1]).numpy()/255.\n",
    "y = data.targets.numpy()"
   ]
  },
  {
   "cell_type": "code",
   "execution_count": 3,
   "id": "18b94310-e1b4-43b2-a492-cb585dfac686",
   "metadata": {},
   "outputs": [],
   "source": [
    "from sklearn.model_selection import train_test_split"
   ]
  },
  {
   "cell_type": "markdown",
   "id": "25ef2336-5514-42ef-bcf5-37adeb0fbe46",
   "metadata": {},
   "source": [
    "Splitting into training and test data set."
   ]
  },
  {
   "cell_type": "code",
   "execution_count": 4,
   "id": "0b192ba0-e4aa-415e-876c-09421f010680",
   "metadata": {},
   "outputs": [],
   "source": [
    "X_train, X_test, y_train, y_test = train_test_split(X, y, train_size=0.8, shuffle=True)"
   ]
  },
  {
   "cell_type": "code",
   "execution_count": 5,
   "id": "a9e7b06c-9087-47cc-8e94-d21ae68a71c9",
   "metadata": {},
   "outputs": [],
   "source": [
    "from sklearn.decomposition import PCA"
   ]
  },
  {
   "cell_type": "code",
   "execution_count": 6,
   "id": "751382f7-b90a-44d1-95a2-9809100252ff",
   "metadata": {},
   "outputs": [],
   "source": [
    "pca = PCA(\n",
    "    n_components=2./3.,\n",
    "    whiten=True,\n",
    ")\n",
    "Y_train = pca.fit_transform(X_train)\n",
    "Y_test = pca.transform(X_test)"
   ]
  },
  {
   "cell_type": "markdown",
   "id": "ab1b8c44-0992-49c2-ad69-c83f023cc7e0",
   "metadata": {},
   "source": [
    "To far the labels on which we are training on are the digits 0-9."
   ]
  },
  {
   "cell_type": "code",
   "execution_count": 7,
   "id": "d19708d5-cd44-448b-9b4e-7252641c5279",
   "metadata": {},
   "outputs": [
    {
     "data": {
      "text/plain": [
       "array([9, 9, 1, ..., 7, 8, 0])"
      ]
     },
     "execution_count": 7,
     "metadata": {},
     "output_type": "execute_result"
    }
   ],
   "source": [
    "y_train"
   ]
  },
  {
   "cell_type": "markdown",
   "id": "a71eaf42-4314-4d08-a502-0e114751b160",
   "metadata": {},
   "source": [
    "Here we want to transform the labels into the one-hot configuration. Each label is then a vector of length 10, which contains 1 at the label position and 0 everywhere else."
   ]
  },
  {
   "cell_type": "code",
   "execution_count": 8,
   "id": "be9e099b-1aa7-4720-951d-c5ddd918e3f9",
   "metadata": {},
   "outputs": [],
   "source": [
    "import numpy as np"
   ]
  },
  {
   "cell_type": "code",
   "execution_count": 9,
   "id": "2a3d8aef-61ca-4493-a709-da8cce61a753",
   "metadata": {},
   "outputs": [],
   "source": [
    "y_train_oh = np.eye(10)[y_train]\n",
    "y_test_oh  = np.eye(10)[y_test]"
   ]
  },
  {
   "cell_type": "code",
   "execution_count": 10,
   "id": "15d39260-4dde-4394-a2b4-bbbf70dd21ab",
   "metadata": {},
   "outputs": [
    {
     "data": {
      "text/plain": [
       "(5, array([0., 0., 0., 0., 0., 1., 0., 0., 0., 0.]))"
      ]
     },
     "execution_count": 10,
     "metadata": {},
     "output_type": "execute_result"
    }
   ],
   "source": [
    "y_train[42], y_train_oh[42]"
   ]
  },
  {
   "cell_type": "markdown",
   "id": "07560496-2188-4983-97e1-5660195f48e9",
   "metadata": {},
   "source": [
    "In the next step we are creating tensors from our data and labels and send them to the device we want to use for the computation."
   ]
  },
  {
   "cell_type": "code",
   "execution_count": 11,
   "id": "37a8efe8-b99f-4233-8ee0-c413d7e01a2e",
   "metadata": {},
   "outputs": [],
   "source": [
    "import torch"
   ]
  },
  {
   "cell_type": "markdown",
   "id": "4c632e8a-8c72-4479-9329-4c3164c05355",
   "metadata": {},
   "source": [
    "If a CUDA device is available, we want to use it."
   ]
  },
  {
   "cell_type": "code",
   "execution_count": 12,
   "id": "ee10e7d4-49cc-40b9-a8ad-4491cc288838",
   "metadata": {},
   "outputs": [
    {
     "name": "stdout",
     "output_type": "stream",
     "text": [
      "CUDA is available.\n"
     ]
    }
   ],
   "source": [
    "if torch.cuda.is_available():\n",
    "    print(\"CUDA is available.\")\n",
    "    device = torch.device(\"cuda\")\n",
    "else:\n",
    "    device = torch.device(\"cpu\")"
   ]
  },
  {
   "cell_type": "markdown",
   "id": "8fbc8723-b3c8-422f-ad3f-a72c4f7650b6",
   "metadata": {},
   "source": [
    "Sending tensors to device."
   ]
  },
  {
   "cell_type": "code",
   "execution_count": 13,
   "id": "a9d7168e-cf7d-4f76-829d-23e035d861a0",
   "metadata": {},
   "outputs": [],
   "source": [
    "Y_train    = torch.Tensor(Y_train).to(device)\n",
    "Y_test     = torch.Tensor(Y_test).to(device)\n",
    "y_train_oh = torch.Tensor(y_train_oh).to(device)\n",
    "y_test_oh  = torch.Tensor(y_test_oh).to(device)"
   ]
  },
  {
   "cell_type": "markdown",
   "id": "2fdb8db2-5d24-4867-a84c-74db08aad65d",
   "metadata": {},
   "source": [
    "PyTorch has the neat functionality of providing data loaders that organize the batching for us."
   ]
  },
  {
   "cell_type": "code",
   "execution_count": 14,
   "id": "cf2ea66d-e297-495c-9a23-56f5564229e8",
   "metadata": {},
   "outputs": [],
   "source": [
    "from torch.utils.data import TensorDataset\n",
    "from torch.utils.data import DataLoader"
   ]
  },
  {
   "cell_type": "code",
   "execution_count": 15,
   "id": "792c988b-a282-4abc-9936-3f6c3203f83c",
   "metadata": {},
   "outputs": [],
   "source": [
    "batch_size = 1_000"
   ]
  },
  {
   "cell_type": "code",
   "execution_count": 16,
   "id": "51948245-deb3-44b8-b281-f4d7c337dd6c",
   "metadata": {},
   "outputs": [],
   "source": [
    "dataloader = {}\n",
    "_ = TensorDataset(Y_train, y_train_oh)\n",
    "dataloader[\"train\"] = DataLoader(_, batch_size=batch_size, shuffle=True)\n",
    "_ = TensorDataset(Y_test, y_test_oh)\n",
    "dataloader[\"test\"] = DataLoader(_, batch_size=len(Y_test), shuffle=False)"
   ]
  },
  {
   "cell_type": "markdown",
   "id": "168c2c03-e4f3-4783-a00a-adc14485eba1",
   "metadata": {},
   "source": [
    "A data loader is an object that can be iterated through and it is always returning batches with the size of `batch_size` of the data. For every new runt through the data is is re-shuffling in the case for the training set.  \n",
    "The test data set is only used for evaluation. Here we want to get all the data at once. Shuffling is not needed."
   ]
  },
  {
   "cell_type": "markdown",
   "id": "7804e940-4912-4ce3-94f3-b664f75e4c03",
   "metadata": {},
   "source": [
    "In the next step we design the neural network itself. It is in principle a sequential application of operations. The `Linear` operation is a simple matrix-vector multiplication with the addition of a bias.\n",
    "\n",
    "$\\large y = x \\cdot \\mathbb{A}^\\mathrm{T} + b$\n",
    "\n",
    "The linear operation has an input dimension and an output dimension. In our first layer the input dimension is the dimension of our data. In this case 64 for the 8x8 digits. The first layer reduces the dimensions to 32, the second layer to 16, and the final layer to 10 to reproduce our one-hot vector.\n",
    "\n",
    "In between the linear layers we need a non-linear activation function. Otherwise the concatenation of linear transformations lead to a single linear transformation. In this example we are using the `SELU` scaled exponential linear unit as activation function.\n",
    "\n",
    "$\\large \\mathrm{SELU} \\left(x\\right) = \\lambda \\left(  \\max\\left(0, x\\right) + \\min\\left(0, \\alpha\\left(\\exp\\left(x\\right)-1\\right) \\right) \\right)$\n",
    "\n",
    "With appropriate choices for $\\lambda$ and $\\alpha$ and the correct initialization this leads to a [self-normalizing neural network](https://arxiv.org/abs/1706.02515).\n",
    "\n",
    "In between the layers we add dropout layers. A classical dropout layer randomly sets activations to 0 with a probability of `p_drop`. In the case of a self-normalizing neural network this would shift the mean and the variance. `AlphaDropout` is an implementation of a dropout layer that ensures the self-normalizing property of the neural network.\n",
    "\n",
    "At the output layer we could apply the `Softmax` activation to get a probability representation fo our one-hot vector. However, as seen later, our loss function is doing this internally and we do not want to apply it twice.\n",
    "\n",
    "$\\large \\mathrm{Softmax} \\left( x_i \\right) = \\frac{\\exp \\left( x_i \\right)}{\\sum\\limits_j \\exp \\left( x_j \\right)}$\n",
    "\n",
    "Therefore, we are adding another function that is returning the probabilities from the model output for later analysis."
   ]
  },
  {
   "cell_type": "code",
   "execution_count": 17,
   "id": "ea372ffc-d5f7-4183-b5da-cf74ed217634",
   "metadata": {},
   "outputs": [],
   "source": [
    "class MLP(torch.nn.Module):\n",
    "    \n",
    "    def __init__(self, input_dim, output_dim, p_drop=0.):\n",
    "        super().__init__()\n",
    "        \n",
    "        self.model = torch.nn.Sequential(\n",
    "            torch.nn.Linear(input_dim, 128),\n",
    "            torch.nn.SELU(inplace=True),\n",
    "            torch.nn.AlphaDropout(p=p_drop, inplace=True),\n",
    "            torch.nn.Linear(128, 64),\n",
    "            torch.nn.SELU(inplace=True),\n",
    "            torch.nn.AlphaDropout(p=p_drop, inplace=True),\n",
    "            torch.nn.Linear(64, 32),\n",
    "            torch.nn.SELU(inplace=True),\n",
    "            torch.nn.AlphaDropout(p=p_drop, inplace=True),\n",
    "            torch.nn.Linear(32, 16),\n",
    "            torch.nn.SELU(inplace=True),\n",
    "            torch.nn.AlphaDropout(p=p_drop, inplace=True),\n",
    "            torch.nn.Linear(16, output_dim),\n",
    "        )\n",
    "        \n",
    "    def forward(self, x):\n",
    "        return self.model(x)\n",
    "    \n",
    "    @torch.no_grad()\n",
    "    def probability(self, x):\n",
    "        self.eval()\n",
    "        softmax = torch.nn.Softmax(dim=1)\n",
    "        return softmax(self.model(x))"
   ]
  },
  {
   "cell_type": "code",
   "execution_count": 18,
   "id": "07b3dd21-10de-4855-9179-c14c381f9611",
   "metadata": {},
   "outputs": [],
   "source": [
    "p_drop = 0.03"
   ]
  },
  {
   "cell_type": "code",
   "execution_count": 19,
   "id": "14d0bfce-5fa9-4113-bf02-c314d47e3f47",
   "metadata": {},
   "outputs": [],
   "source": [
    "net = MLP(Y_train.shape[1], 10, p_drop=p_drop).to(device)"
   ]
  },
  {
   "cell_type": "markdown",
   "id": "5284edcf-f62b-4857-ab49-869a786abe18",
   "metadata": {},
   "source": [
    "The network now takes a batch of our data and returns a result vector that we can compare to our one-hot labels in our loss function."
   ]
  },
  {
   "cell_type": "markdown",
   "id": "f08f6a64-9018-4948-84a1-ff2c1c21447c",
   "metadata": {},
   "source": [
    "As loss function we choose the `CrossEntropyLoss` which is defined as\n",
    "\n",
    "$\\Large \\mathcal{L} \\left( x, y \\right) = - \\sum\\limits_{c=1}^C \\log \\frac{\\exp\\left( x_c\\right)}{\\sum\\limits_{i=1}^C \\exp\\left( x_i\\right)} y_c$"
   ]
  },
  {
   "cell_type": "code",
   "execution_count": 20,
   "id": "333105f7-1819-4497-911c-8d300a46a183",
   "metadata": {},
   "outputs": [],
   "source": [
    "learning_rate = 1.e-3\n",
    "weight_decay = 1.e-2\n",
    "max_epochs = 250"
   ]
  },
  {
   "cell_type": "code",
   "execution_count": 21,
   "id": "bfe36974-05fa-4afc-89f9-0259425731d4",
   "metadata": {},
   "outputs": [],
   "source": [
    "criterion = torch.nn.CrossEntropyLoss()\n",
    "optimizer = torch.optim.AdamW(net.parameters(), lr=learning_rate, weight_decay=weight_decay, amsgrad=True)\n",
    "scheduler = torch.optim.lr_scheduler.CosineAnnealingWarmRestarts(optimizer, 10, T_mult=2)"
   ]
  },
  {
   "cell_type": "markdown",
   "id": "9e2e253d-241f-439a-868e-744c16991571",
   "metadata": {},
   "source": [
    "## Training the Model"
   ]
  },
  {
   "cell_type": "code",
   "execution_count": 22,
   "id": "d3e8a20c-68ea-44ac-ad91-1d55721c1efa",
   "metadata": {},
   "outputs": [],
   "source": [
    "import copy\n",
    "from tqdm.auto import tqdm"
   ]
  },
  {
   "cell_type": "code",
   "execution_count": 23,
   "id": "9bbf04c9-a4e3-4f07-8168-c83e50439923",
   "metadata": {},
   "outputs": [],
   "source": [
    "def fit(net, dataloader, optimizer, scheduler, criterion, max_epochs):\n",
    "\n",
    "    train_loss = []\n",
    "    test_loss  = []\n",
    "    best_loss = np.inf\n",
    "    best_net = copy.deepcopy(net)\n",
    "\n",
    "    pbar = tqdm(range(max_epochs), desc=\"Train Loss: N/A | Test Loss: N/A | Best Loss: N/A | Epochs\")\n",
    "    for e in pbar:\n",
    "\n",
    "        tr_loss = 0.\n",
    "        te_loss = 0.\n",
    "\n",
    "        datalen = len(dataloader[\"train\"])\n",
    "        \n",
    "        net.train()\n",
    "        for i, (data, target) in enumerate(dataloader[\"train\"]):\n",
    "            optimizer.zero_grad()\n",
    "            model = net(data)\n",
    "            loss = criterion(model, target)\n",
    "            loss.backward()\n",
    "            optimizer.step()\n",
    "            scheduler.step(e + i/datalen)\n",
    "            tr_loss += loss.item()\n",
    "\n",
    "        net.eval()\n",
    "        for data, target in dataloader[\"test\"]:\n",
    "            model = net(data)\n",
    "            loss = criterion(model, target)\n",
    "            te_loss += loss.item()\n",
    "\n",
    "        train_loss.append(tr_loss/len(dataloader[\"train\"]))\n",
    "        test_loss.append(te_loss/len(dataloader[\"test\"]))\n",
    "        \n",
    "        if test_loss[-1] < best_loss:\n",
    "            best_net = copy.deepcopy(net)\n",
    "            best_loss = test_loss[-1]\n",
    "        \n",
    "        pbar.set_description(\"Train Loss: {:1.3e} | Test Loss: {:1.3e} | Best Loss: {:1.3e} | Epochs\".format(train_loss[-1], test_loss[-1], best_loss))\n",
    "        \n",
    "    loss = {\n",
    "        \"train\": train_loss,\n",
    "        \"test\": test_loss\n",
    "    }\n",
    "        \n",
    "    return best_net, loss"
   ]
  },
  {
   "cell_type": "code",
   "execution_count": 24,
   "id": "bb87523e-8ebb-4695-bb99-39073fcafa6b",
   "metadata": {},
   "outputs": [
    {
     "data": {
      "application/vnd.jupyter.widget-view+json": {
       "model_id": "97a6182de1da492a85e8590d892580ca",
       "version_major": 2,
       "version_minor": 0
      },
      "text/plain": [
       "Train Loss: N/A | Test Loss: N/A | Best Loss: N/A | Epochs:   0%|          | 0/250 [00:00<?, ?it/s]"
      ]
     },
     "metadata": {},
     "output_type": "display_data"
    }
   ],
   "source": [
    "net, loss = fit(net, dataloader, optimizer, scheduler, criterion, max_epochs)"
   ]
  },
  {
   "cell_type": "markdown",
   "id": "5b3553bf-28f3-4b91-9afa-36b1b3d9e6a8",
   "metadata": {},
   "source": [
    "## Loss Evaluation"
   ]
  },
  {
   "cell_type": "code",
   "execution_count": 25,
   "id": "88e7a03f-cdd4-4151-bb68-a4b7a87ee403",
   "metadata": {},
   "outputs": [],
   "source": [
    "import matplotlib.pyplot as plt\n",
    "plt.rcParams[\"figure.dpi\"] = 150."
   ]
  },
  {
   "cell_type": "code",
   "execution_count": 26,
   "id": "0308c85a-5fa6-40af-a306-311ce90bc619",
   "metadata": {},
   "outputs": [
    {
     "data": {
      "image/png": "[encoded data removed]",
      "text/plain": [
       "<Figure size 900x600 with 1 Axes>"
      ]
     },
     "metadata": {
      "needs_background": "light"
     },
     "output_type": "display_data"
    }
   ],
   "source": [
    "fig, ax = plt.subplots()\n",
    "ax.axhline(np.min(loss[\"test\"]), lw=0.5, c=\"black\")\n",
    "ax.axvline(np.argmin(loss[\"test\"]), lw=0.5, c=\"black\")\n",
    "ax.plot(loss[\"train\"], label=\"Training\", lw=1)\n",
    "ax.plot(loss[\"test\"], label=\"Validation\", lw=1)\n",
    "ax.set_xlabel(\"Epoch\")\n",
    "ax.set_ylabel(\"Loss\")\n",
    "ax.legend()\n",
    "fig.tight_layout()"
   ]
  },
  {
   "cell_type": "markdown",
   "id": "e20d15a6-ffd5-4225-920c-4e3346ebbd7d",
   "metadata": {},
   "source": [
    "## Predictions"
   ]
  },
  {
   "cell_type": "code",
   "execution_count": 27,
   "id": "a560939c-1eec-49c0-84ba-a7afdc791f5b",
   "metadata": {},
   "outputs": [],
   "source": [
    "def plot_prob(X, y, pred, i=None):\n",
    "    width = 3.\n",
    "    height = width/1.6\n",
    "    if i is None:\n",
    "        i = np.random.randint(0, len(X)-1)\n",
    "    d = int(np.sqrt(X[0].shape[0]))\n",
    "    fig = plt.figure(figsize=(3.*width, height))\n",
    "    ax1 = plt.subplot2grid(shape=(1, 3), loc=(0, 0), colspan=1)\n",
    "    ax2 = plt.subplot2grid(shape=(1, 3), loc=(0, 1), colspan=2)\n",
    "    ax1.imshow(X[i, :].reshape((d, d)), cmap=\"Greys\", vmax=X.max(), vmin=X.min())\n",
    "    ax1.axis(\"off\")\n",
    "    ax1.set_title(\"Digit: {}\".format(y[i]))\n",
    "    ax2.bar(np.arange(10), pred[i, :]/pred[i, :].sum()*100)\n",
    "    ax2.set_xlabel(\"Digit\")\n",
    "    ax2.set_ylabel(\"Probability\")\n",
    "    ax2.set_ylim(0., 100)\n",
    "    ax2.grid(axis=\"y\")\n",
    "    ax2.set_xticks(np.arange(10))\n",
    "    ax2.set_title(\"Prediction: {}\".format(pred[i].argmax()))\n",
    "    ax2.set_yticks(ax2.get_yticks())\n",
    "    ax2.set_yticklabels([\"{:3.0f}%\".format(p) for p in ax2.get_yticks()])\n",
    "    fig.tight_layout()"
   ]
  },
  {
   "cell_type": "code",
   "execution_count": 28,
   "id": "68d27b77-155c-44c4-8a15-27d21d138159",
   "metadata": {},
   "outputs": [],
   "source": [
    "pred_train = net.probability(Y_train).cpu().detach().numpy()\n",
    "pred_test  = net.probability(Y_test).cpu().detach().numpy()"
   ]
  },
  {
   "cell_type": "code",
   "execution_count": 29,
   "id": "aef9c2ea-c97c-4a87-8eca-84f856f3d9af",
   "metadata": {},
   "outputs": [
    {
     "data": {
      "image/png": "[encoded data removed]",
      "text/plain": [
       "<Figure size 1350x281.25 with 2 Axes>"
      ]
     },
     "metadata": {
      "needs_background": "light"
     },
     "output_type": "display_data"
    }
   ],
   "source": [
    "plot_prob(X_test, y_test, pred_test)"
   ]
  },
  {
   "cell_type": "markdown",
   "id": "b47c31f4-e4b9-4818-be80-2b6911134429",
   "metadata": {},
   "source": [
    "### Checking the failures"
   ]
  },
  {
   "cell_type": "code",
   "execution_count": 30,
   "id": "0c36209c-13b8-4c48-b93d-776441730191",
   "metadata": {},
   "outputs": [],
   "source": [
    "mask_fail = y_test != pred_test.argmax(1)"
   ]
  },
  {
   "cell_type": "code",
   "execution_count": 31,
   "id": "49c2980c-d580-488e-bd30-e1d9085151bf",
   "metadata": {},
   "outputs": [
    {
     "name": "stdout",
     "output_type": "stream",
     "text": [
      "Total number of false identifications: 261\n"
     ]
    }
   ],
   "source": [
    "msg = \"Total number of false identifications: {}\".format(mask_fail.sum())\n",
    "print(msg)"
   ]
  },
  {
   "cell_type": "code",
   "execution_count": 32,
   "id": "14f24bd3-5b41-44b8-acc2-7251506587a2",
   "metadata": {},
   "outputs": [
    {
     "data": {
      "image/png": "[encoded data removed]",
      "text/plain": [
       "<Figure size 1350x281.25 with 2 Axes>"
      ]
     },
     "metadata": {
      "needs_background": "light"
     },
     "output_type": "display_data"
    }
   ],
   "source": [
    "plot_prob(X_test[mask_fail], y_test[mask_fail], pred_test[mask_fail])"
   ]
  },
  {
   "cell_type": "markdown",
   "id": "ad6ee586-2d58-49e4-8595-5df3ec68951e",
   "metadata": {},
   "source": [
    "## Confusion Matrix"
   ]
  },
  {
   "cell_type": "code",
   "execution_count": 33,
   "id": "c8c02d2c-e767-49b2-bda5-23c425494c66",
   "metadata": {},
   "outputs": [],
   "source": [
    "from sklearn.metrics import confusion_matrix"
   ]
  },
  {
   "cell_type": "code",
   "execution_count": 34,
   "id": "14082f43-cf68-495f-85ae-de5d37585363",
   "metadata": {},
   "outputs": [],
   "source": [
    "cmat_test = confusion_matrix(y_test, pred_test.argmax(1), normalize=\"pred\")"
   ]
  },
  {
   "cell_type": "code",
   "execution_count": 35,
   "id": "9833b874-2126-4e2a-a90b-bd875173f9df",
   "metadata": {},
   "outputs": [
    {
     "data": {
      "image/png": "[encoded data removed]",
      "text/plain": [
       "<Figure size 900x600 with 2 Axes>"
      ]
     },
     "metadata": {
      "needs_background": "light"
     },
     "output_type": "display_data"
    }
   ],
   "source": [
    "fig, ax = plt.subplots()\n",
    "cmap = plt.get_cmap(\"RdYlBu_r\", 20)\n",
    "plot = ax.imshow(cmat_test*100, cmap=cmap, vmin=0, vmax=100)\n",
    "cbar = plt.colorbar(plot, ax=ax)\n",
    "cbar.set_ticks(cbar.get_ticks())\n",
    "cbar.set_ticklabels([\"{:3.0f}%\".format(proc) for proc in cbar.ax.get_yticks()])\n",
    "ax.set_xticks(np.arange(10))\n",
    "ax.set_yticks(np.arange(10))\n",
    "ax.set_xlim(-0.5, 9.5)\n",
    "ax.set_ylim(-0.5, 9.5)\n",
    "ax.set_xlabel(\"True number\")\n",
    "ax.set_ylabel(\"Predicted number\")\n",
    "fig.tight_layout()"
   ]
  },
  {
   "cell_type": "markdown",
   "id": "1860b55d-4b90-49b3-978a-96f7aa885c7a",
   "metadata": {},
   "source": [
    "## Accuracy"
   ]
  },
  {
   "cell_type": "code",
   "execution_count": 36,
   "id": "f6f1701f-ebb6-4745-bf5f-1c75aa786110",
   "metadata": {},
   "outputs": [],
   "source": [
    "acc_train = (y_train == pred_train.argmax(1)).sum()/len(y_train)\n",
    "acc_test = (y_test == pred_test.argmax(1)).sum()/len(y_test)"
   ]
  },
  {
   "cell_type": "code",
   "execution_count": 37,
   "id": "0470a8ba-ccf1-465b-9410-fe65ac584aa3",
   "metadata": {},
   "outputs": [
    {
     "data": {
      "image/png": "[encoded data removed]",
      "text/plain": [
       "<Figure size 900x180 with 1 Axes>"
      ]
     },
     "metadata": {
      "needs_background": "light"
     },
     "output_type": "display_data"
    }
   ],
   "source": [
    "fig, ax = plt.subplots(figsize=(6., 1.2))\n",
    "ax.plot(acc_train, 0, \"D\", markersize=8, fillstyle=\"full\", c=\"C0\", label=\"Training\")\n",
    "ax.plot(acc_test, 0, \"D\", markersize=8, fillstyle=\"none\", c=\"C0\", label=\"Validation\")\n",
    "ax.set_xlim(0., 1.)\n",
    "ax.set_ylim(-0.1, 0.1)\n",
    "ax.set_xlabel(\"Accuracy\")\n",
    "ax.spines.right.set_visible(False)\n",
    "ax.spines.left.set_visible(False)\n",
    "ax.spines.top.set_visible(False)\n",
    "ax.set_yticks([])\n",
    "ax.legend(loc=\"upper left\", ncol=2)\n",
    "fig.tight_layout()"
   ]
  }
 ],
 "metadata": {
  "kernelspec": {
   "display_name": "Python 3 (ipykernel)",
   "language": "python",
   "name": "python3"
  },
  "language_info": {
   "codemirror_mode": {
    "name": "ipython",
    "version": 3
   },
   "file_extension": ".py",
   "mimetype": "text/x-python",
   "name": "python",
   "nbconvert_exporter": "python",
   "pygments_lexer": "ipython3",
   "version": "3.10.5"
  }
 },
 "nbformat": 4,
 "nbformat_minor": 5
}
