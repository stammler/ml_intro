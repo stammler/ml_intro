{
 "cells": [
  {
   "cell_type": "markdown",
   "id": "c7fd481f-c8fe-4d4c-8e03-0eb94fae1178",
   "metadata": {},
   "source": [
    "# Multilayer Perceptron"
   ]
  },
  {
   "cell_type": "markdown",
   "id": "1e5b77ac-f83d-45f2-a6c3-4ca72db2c177",
   "metadata": {},
   "source": [
    "Loading the MNIST data set from `sklearn`."
   ]
  },
  {
   "cell_type": "code",
   "execution_count": 1,
   "id": "c68e4033-facd-4c87-bd41-b877a1a1b46b",
   "metadata": {},
   "outputs": [],
   "source": [
    "from sklearn.datasets import load_digits"
   ]
  },
  {
   "cell_type": "code",
   "execution_count": 2,
   "id": "837d24c7-8ac3-494d-aab4-daba9708a4f2",
   "metadata": {},
   "outputs": [],
   "source": [
    "X, y = load_digits(return_X_y=True)"
   ]
  },
  {
   "cell_type": "code",
   "execution_count": 3,
   "id": "18b94310-e1b4-43b2-a492-cb585dfac686",
   "metadata": {},
   "outputs": [],
   "source": [
    "from sklearn.model_selection import train_test_split"
   ]
  },
  {
   "cell_type": "markdown",
   "id": "25ef2336-5514-42ef-bcf5-37adeb0fbe46",
   "metadata": {},
   "source": [
    "Splitting into training and test data set."
   ]
  },
  {
   "cell_type": "code",
   "execution_count": 4,
   "id": "0b192ba0-e4aa-415e-876c-09421f010680",
   "metadata": {},
   "outputs": [],
   "source": [
    "X_train, X_test, y_train, y_test = train_test_split(X, y, train_size=0.8, shuffle=True)"
   ]
  },
  {
   "cell_type": "markdown",
   "id": "ab1b8c44-0992-49c2-ad69-c83f023cc7e0",
   "metadata": {},
   "source": [
    "Transforming the labels into one-hot configuration"
   ]
  },
  {
   "cell_type": "code",
   "execution_count": 5,
   "id": "be9e099b-1aa7-4720-951d-c5ddd918e3f9",
   "metadata": {},
   "outputs": [],
   "source": [
    "import numpy as np"
   ]
  },
  {
   "cell_type": "code",
   "execution_count": 6,
   "id": "2a3d8aef-61ca-4493-a709-da8cce61a753",
   "metadata": {},
   "outputs": [],
   "source": [
    "y_train_oh = np.eye(10)[y_train]\n",
    "y_test_oh  = np.eye(10)[y_test]"
   ]
  },
  {
   "cell_type": "markdown",
   "id": "07560496-2188-4983-97e1-5660195f48e9",
   "metadata": {},
   "source": [
    "## Transforming to Tensors"
   ]
  },
  {
   "cell_type": "code",
   "execution_count": 7,
   "id": "37a8efe8-b99f-4233-8ee0-c413d7e01a2e",
   "metadata": {},
   "outputs": [],
   "source": [
    "import torch"
   ]
  },
  {
   "cell_type": "code",
   "execution_count": 8,
   "id": "ee10e7d4-49cc-40b9-a8ad-4491cc288838",
   "metadata": {},
   "outputs": [],
   "source": [
    "if torch.cuda.is_available():\n",
    "    device = torch.device(\"cuda\")\n",
    "else:\n",
    "    device = torch.device(\"cpu\")"
   ]
  },
  {
   "cell_type": "code",
   "execution_count": 9,
   "id": "a9d7168e-cf7d-4f76-829d-23e035d861a0",
   "metadata": {},
   "outputs": [],
   "source": [
    "X_train_torch    = torch.Tensor(X_train).to(device)\n",
    "X_test_torch     = torch.Tensor(X_test).to(device)\n",
    "y_train_oh_torch = torch.Tensor(y_train_oh).to(device)\n",
    "y_test_oh_torch  = torch.Tensor(y_test_oh).to(device)"
   ]
  },
  {
   "cell_type": "markdown",
   "id": "2fdb8db2-5d24-4867-a84c-74db08aad65d",
   "metadata": {},
   "source": [
    "## Setting up Data Batches"
   ]
  },
  {
   "cell_type": "code",
   "execution_count": 10,
   "id": "cf2ea66d-e297-495c-9a23-56f5564229e8",
   "metadata": {},
   "outputs": [],
   "source": [
    "from torch.utils.data import DataLoader"
   ]
  },
  {
   "cell_type": "code",
   "execution_count": 11,
   "id": "13cbabb8-5599-404d-8632-20bae8723aa5",
   "metadata": {},
   "outputs": [],
   "source": [
    "dataloader = {\n",
    "    \"train\": DataLoader(list(zip(X_train_torch, y_train_oh_torch)), batch_size=10, shuffle=True),\n",
    "    \"test\": DataLoader(list(zip(X_test_torch,  y_test_oh_torch)),  batch_size=len(y_test))\n",
    "}"
   ]
  },
  {
   "cell_type": "markdown",
   "id": "7804e940-4912-4ce3-94f3-b664f75e4c03",
   "metadata": {},
   "source": [
    "## Setting up the Network"
   ]
  },
  {
   "cell_type": "code",
   "execution_count": 12,
   "id": "ea372ffc-d5f7-4183-b5da-cf74ed217634",
   "metadata": {},
   "outputs": [],
   "source": [
    "class mlp(torch.nn.Module):\n",
    "    \n",
    "    def __init__(self, input_dim, output_dim):\n",
    "        super().__init__()\n",
    "        \n",
    "        self.model = torch.nn.Sequential(\n",
    "            torch.nn.Linear(input_dim, 32),\n",
    "            torch.nn.ReLU(True),\n",
    "            torch.nn.Linear(32, 16),\n",
    "            torch.nn.ReLU(True),\n",
    "            torch.nn.Linear(16, output_dim),\n",
    "            torch.nn.Sigmoid()\n",
    "        )\n",
    "        \n",
    "    def forward(self, x):\n",
    "        return self.model(x)"
   ]
  },
  {
   "cell_type": "code",
   "execution_count": 13,
   "id": "dac6e885-5f92-4181-9110-7119f3d01479",
   "metadata": {},
   "outputs": [],
   "source": [
    "model = mlp(X_train.shape[1], 10).to(device)"
   ]
  },
  {
   "cell_type": "code",
   "execution_count": 14,
   "id": "bfe36974-05fa-4afc-89f9-0259425731d4",
   "metadata": {},
   "outputs": [],
   "source": [
    "criterion = torch.nn.CrossEntropyLoss()\n",
    "optimizer = torch.optim.Adam(model.parameters())\n",
    "epochs = 100"
   ]
  },
  {
   "cell_type": "markdown",
   "id": "9e2e253d-241f-439a-868e-744c16991571",
   "metadata": {},
   "source": [
    "## Training the Model"
   ]
  },
  {
   "cell_type": "code",
   "execution_count": 15,
   "id": "d3e8a20c-68ea-44ac-ad91-1d55721c1efa",
   "metadata": {},
   "outputs": [],
   "source": [
    "from tqdm.auto import tqdm"
   ]
  },
  {
   "cell_type": "code",
   "execution_count": 16,
   "id": "9bbf04c9-a4e3-4f07-8168-c83e50439923",
   "metadata": {},
   "outputs": [],
   "source": [
    "def fit(model, dataloader, optimizer, criterion, epochs):\n",
    "\n",
    "    train_loss = []\n",
    "    test_loss  = []\n",
    "\n",
    "    for e in tqdm(range(epochs), desc=\"Epochs\"):\n",
    "\n",
    "        tr_loss = 0.\n",
    "        te_loss = 0.\n",
    "\n",
    "        model.train()\n",
    "        for data, label in dataloader[\"train\"]:\n",
    "            optimizer.zero_grad()\n",
    "            target = model(data)\n",
    "            loss = criterion(target, label)\n",
    "            loss.backward()\n",
    "            optimizer.step()\n",
    "            tr_loss += loss.item()\n",
    "\n",
    "        model.eval()\n",
    "        for data, label in dataloader[\"test\"]:\n",
    "            target = model(data)\n",
    "            loss = criterion(target, label)\n",
    "            te_loss += loss.item()\n",
    "\n",
    "        train_loss.append(tr_loss/len(dataloader[\"train\"]))\n",
    "        test_loss.append(te_loss/len(dataloader[\"test\"]))\n",
    "        \n",
    "    loss = {\n",
    "        \"train\": train_loss,\n",
    "        \"test\": test_loss\n",
    "    }\n",
    "        \n",
    "    return model, loss"
   ]
  },
  {
   "cell_type": "code",
   "execution_count": 17,
   "id": "bb87523e-8ebb-4695-bb99-39073fcafa6b",
   "metadata": {},
   "outputs": [
    {
     "data": {
      "application/vnd.jupyter.widget-view+json": {
       "model_id": "2d2f2f61a2544c399b706ae4b7fdcf20",
       "version_major": 2,
       "version_minor": 0
      },
      "text/plain": [
       "Epochs:   0%|          | 0/100 [00:00<?, ?it/s]"
      ]
     },
     "metadata": {},
     "output_type": "display_data"
    }
   ],
   "source": [
    "model, loss = fit(model, dataloader, optimizer, criterion, epochs)"
   ]
  },
  {
   "cell_type": "markdown",
   "id": "5b3553bf-28f3-4b91-9afa-36b1b3d9e6a8",
   "metadata": {},
   "source": [
    "## Loss Evaluation"
   ]
  },
  {
   "cell_type": "code",
   "execution_count": 18,
   "id": "88e7a03f-cdd4-4151-bb68-a4b7a87ee403",
   "metadata": {},
   "outputs": [],
   "source": [
    "import matplotlib.pyplot as plt"
   ]
  },
  {
   "cell_type": "code",
   "execution_count": 19,
   "id": "0308c85a-5fa6-40af-a306-311ce90bc619",
   "metadata": {},
   "outputs": [
    {
     "data": {
      "image/png": "[encoded data removed]",
      "text/plain": [
       "<Figure size 640x480 with 1 Axes>"
      ]
     },
     "metadata": {},
     "output_type": "display_data"
    }
   ],
   "source": [
    "fig = plt.figure(dpi=100.)\n",
    "ax = fig.add_subplot()\n",
    "ax.plot(np.arange(epochs), loss[\"train\"], label=\"Training\")\n",
    "ax.plot(np.arange(epochs), loss[\"test\"], label=\"Validation\")\n",
    "ax.set_xlabel(\"Epoch\")\n",
    "ax.set_ylabel(\"Loss\")\n",
    "ax.legend()\n",
    "fig.tight_layout()"
   ]
  },
  {
   "cell_type": "markdown",
   "id": "e20d15a6-ffd5-4225-920c-4e3346ebbd7d",
   "metadata": {},
   "source": [
    "## Predictions"
   ]
  },
  {
   "cell_type": "code",
   "execution_count": 20,
   "id": "a560939c-1eec-49c0-84ba-a7afdc791f5b",
   "metadata": {},
   "outputs": [],
   "source": [
    "def plot_prob(X, y, pred, i=None):\n",
    "    width = 3.\n",
    "    height = width/1.6\n",
    "    if i is None:\n",
    "        i = np.random.randint(0, len(X)-1)\n",
    "    d = int(np.sqrt(X[0].shape[0]))\n",
    "    fig = plt.figure(dpi=100, figsize=(3.*width, height))\n",
    "    ax1 = plt.subplot2grid(shape=(1, 3), loc=(0, 0), colspan=1)\n",
    "    ax2 = plt.subplot2grid(shape=(1, 3), loc=(0, 1), colspan=2)\n",
    "    ax1.imshow(X[i, :].reshape((d, d)), cmap=\"Greys\", vmax=X.max(), vmin=X.min())\n",
    "    ax1.axis(\"off\")\n",
    "    ax1.set_title(\"Digit: {}\".format(y[i]))\n",
    "    ax2.bar(np.arange(10), pred[i, :]/pred[i, :].sum()*100)\n",
    "    ax2.set_xlabel(\"Digit\")\n",
    "    ax2.set_ylabel(\"Probability\")\n",
    "    ax2.set_ylim(0., 100)\n",
    "    ax2.grid(axis=\"y\")\n",
    "    ax2.set_xticks(np.arange(10))\n",
    "    ax2.set_title(\"Prediction: {}\".format(pred[i].argmax()))\n",
    "    ax2.set_yticks(ax2.get_yticks())\n",
    "    ax2.set_yticklabels([\"{:3.0f}%\".format(p) for p in ax2.get_yticks()])\n",
    "    fig.tight_layout()"
   ]
  },
  {
   "cell_type": "code",
   "execution_count": 21,
   "id": "68d27b77-155c-44c4-8a15-27d21d138159",
   "metadata": {},
   "outputs": [],
   "source": [
    "pred_train = model(X_train_torch).cpu().detach().numpy()\n",
    "pred_test  = model(X_test_torch).cpu().detach().numpy()"
   ]
  },
  {
   "cell_type": "code",
   "execution_count": 22,
   "id": "aef9c2ea-c97c-4a87-8eca-84f856f3d9af",
   "metadata": {},
   "outputs": [
    {
     "data": {
      "image/png": "[encoded data removed]",
      "text/plain": [
       "<Figure size 900x187.5 with 2 Axes>"
      ]
     },
     "metadata": {},
     "output_type": "display_data"
    }
   ],
   "source": [
    "plot_prob(X_test, y_test, pred_test)"
   ]
  },
  {
   "cell_type": "markdown",
   "id": "b47c31f4-e4b9-4818-be80-2b6911134429",
   "metadata": {},
   "source": [
    "### Checking the failures"
   ]
  },
  {
   "cell_type": "code",
   "execution_count": 23,
   "id": "0c36209c-13b8-4c48-b93d-776441730191",
   "metadata": {},
   "outputs": [],
   "source": [
    "mask_fail = y_test != pred_test.argmax(1)"
   ]
  },
  {
   "cell_type": "code",
   "execution_count": 24,
   "id": "49c2980c-d580-488e-bd30-e1d9085151bf",
   "metadata": {},
   "outputs": [
    {
     "name": "stdout",
     "output_type": "stream",
     "text": [
      "Total number of false identifications: 8\n"
     ]
    }
   ],
   "source": [
    "msg = \"Total number of false identifications: {}\".format(mask_fail.sum())\n",
    "print(msg)"
   ]
  },
  {
   "cell_type": "code",
   "execution_count": 25,
   "id": "14f24bd3-5b41-44b8-acc2-7251506587a2",
   "metadata": {},
   "outputs": [
    {
     "data": {
      "image/png": "[encoded data removed]",
      "text/plain": [
       "<Figure size 900x187.5 with 2 Axes>"
      ]
     },
     "metadata": {},
     "output_type": "display_data"
    }
   ],
   "source": [
    "plot_prob(X_test[mask_fail], y_test[mask_fail], pred_test[mask_fail])"
   ]
  },
  {
   "cell_type": "markdown",
   "id": "ad6ee586-2d58-49e4-8595-5df3ec68951e",
   "metadata": {},
   "source": [
    "## Confusion Matrix"
   ]
  },
  {
   "cell_type": "code",
   "execution_count": 26,
   "id": "c8c02d2c-e767-49b2-bda5-23c425494c66",
   "metadata": {},
   "outputs": [],
   "source": [
    "from sklearn.metrics import confusion_matrix"
   ]
  },
  {
   "cell_type": "code",
   "execution_count": 27,
   "id": "14082f43-cf68-495f-85ae-de5d37585363",
   "metadata": {},
   "outputs": [],
   "source": [
    "cmat_test = confusion_matrix(y_test, pred_test.argmax(1), normalize=\"pred\")"
   ]
  },
  {
   "cell_type": "code",
   "execution_count": 28,
   "id": "9833b874-2126-4e2a-a90b-bd875173f9df",
   "metadata": {},
   "outputs": [
    {
     "data": {
      "image/png": "[encoded data removed]",
      "text/plain": [
       "<Figure size 640x480 with 2 Axes>"
      ]
     },
     "metadata": {},
     "output_type": "display_data"
    }
   ],
   "source": [
    "fig = plt.figure(dpi=100)\n",
    "ax = fig.add_subplot(111)\n",
    "cmap = plt.get_cmap(\"RdYlBu_r\", 10)\n",
    "plot = ax.imshow(cmat_test*100, cmap=cmap, vmin=0, vmax=100)\n",
    "cbar = plt.colorbar(plot, ax=ax)\n",
    "cbar.ax.set_yticks(cbar.ax.get_yticks())\n",
    "cbar.ax.set_yticklabels([\"{:3.0f}%\".format(proc) for proc in cbar.ax.get_yticks()])\n",
    "ax.set_xticks(np.arange(10))\n",
    "ax.set_yticks(np.arange(10))\n",
    "ax.set_xlim(-0.5, 9.5)\n",
    "ax.set_ylim(-0.5, 9.5)\n",
    "ax.set_xlabel(\"True number\")\n",
    "ax.set_ylabel(\"Predicted number\")\n",
    "fig.tight_layout()"
   ]
  },
  {
   "cell_type": "markdown",
   "id": "1860b55d-4b90-49b3-978a-96f7aa885c7a",
   "metadata": {},
   "source": [
    "## Accuracy"
   ]
  },
  {
   "cell_type": "code",
   "execution_count": 29,
   "id": "f6f1701f-ebb6-4745-bf5f-1c75aa786110",
   "metadata": {},
   "outputs": [],
   "source": [
    "acc_train = (y_train == pred_train.argmax(1)).sum()/len(y_train)\n",
    "acc_test = (y_test == pred_test.argmax(1)).sum()/len(y_test)"
   ]
  },
  {
   "cell_type": "code",
   "execution_count": 30,
   "id": "3c0c6329-3e3a-4ce8-8c68-c5135ecfe670",
   "metadata": {},
   "outputs": [
    {
     "data": {
      "image/png": "[encoded data removed]",
      "text/plain": [
       "<Figure size 640x480 with 1 Axes>"
      ]
     },
     "metadata": {},
     "output_type": "display_data"
    }
   ],
   "source": [
    "fig = plt.figure(dpi=100)\n",
    "ax = fig.add_subplot(111, aspect=1)\n",
    "ax.plot(acc_train, 0, \"D\", markersize=8, fillstyle=\"full\", c=\"C0\", label=\"Training\")\n",
    "ax.plot(acc_test, 0, \"D\", markersize=8, fillstyle=\"none\", c=\"C0\", label=\"Validation\")\n",
    "ax.set_xlim(0., 1)\n",
    "ax.set_xlabel(\"Accuracy\")\n",
    "ax.spines.right.set_visible(False)\n",
    "ax.spines.left.set_visible(False)\n",
    "ax.spines.top.set_visible(False)\n",
    "ax.set_yticks([])\n",
    "ax.legend(loc=\"upper left\", ncol=2)\n",
    "fig.tight_layout()"
   ]
  }
 ],
 "metadata": {
  "kernelspec": {
   "display_name": "Python 3 (ipykernel)",
   "language": "python",
   "name": "python3"
  },
  "language_info": {
   "codemirror_mode": {
    "name": "ipython",
    "version": 3
   },
   "file_extension": ".py",
   "mimetype": "text/x-python",
   "name": "python",
   "nbconvert_exporter": "python",
   "pygments_lexer": "ipython3",
   "version": "3.10.8"
  }
 },
 "nbformat": 4,
 "nbformat_minor": 5
}
